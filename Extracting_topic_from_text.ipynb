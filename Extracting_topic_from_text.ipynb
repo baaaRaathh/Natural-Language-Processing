{
  "nbformat": 4,
  "nbformat_minor": 0,
  "metadata": {
    "colab": {
      "provenance": [],
      "gpuType": "T4",
      "authorship_tag": "ABX9TyMtJxQnxbOkRETr0j0ScWV8",
      "include_colab_link": true
    },
    "kernelspec": {
      "name": "python3",
      "display_name": "Python 3"
    },
    "language_info": {
      "name": "python"
    },
    "accelerator": "GPU"
  },
  "cells": [
    {
      "cell_type": "markdown",
      "metadata": {
        "id": "view-in-github",
        "colab_type": "text"
      },
      "source": [
        "<a href=\"https://colab.research.google.com/github/baaaRaathh/Natural-Language-Processing/blob/main/Extracting_topic_from_text.ipynb\" target=\"_parent\"><img src=\"https://colab.research.google.com/assets/colab-badge.svg\" alt=\"Open In Colab\"/></a>"
      ]
    },
    {
      "cell_type": "code",
      "execution_count": 2,
      "metadata": {
        "id": "J9Qd6H7C7ESP"
      },
      "outputs": [],
      "source": [
        "doc1 = \"I am learning NLP, it is very interesting and exciting.it includes machine learning and deep learning\"\n",
        "doc2 = \"My father is a data scientist and he is nlp expert\"\n",
        "doc3 = \"My sister has good exposure into android development\""
      ]
    },
    {
      "cell_type": "code",
      "source": [
        "doc = [doc1,doc2,doc3]"
      ],
      "metadata": {
        "id": "PDIeLaH29F9d"
      },
      "execution_count": 10,
      "outputs": []
    },
    {
      "cell_type": "code",
      "source": [
        "pip install gensim"
      ],
      "metadata": {
        "colab": {
          "base_uri": "https://localhost:8080/"
        },
        "id": "7yGuSU5e7YVA",
        "outputId": "230c6dee-8c34-46be-a8fb-741adeea7e20"
      },
      "execution_count": 1,
      "outputs": [
        {
          "output_type": "stream",
          "name": "stdout",
          "text": [
            "Requirement already satisfied: gensim in /usr/local/lib/python3.10/dist-packages (4.3.3)\n",
            "Requirement already satisfied: numpy<2.0,>=1.18.5 in /usr/local/lib/python3.10/dist-packages (from gensim) (1.26.4)\n",
            "Requirement already satisfied: scipy<1.14.0,>=1.7.0 in /usr/local/lib/python3.10/dist-packages (from gensim) (1.13.1)\n",
            "Requirement already satisfied: smart-open>=1.8.1 in /usr/local/lib/python3.10/dist-packages (from gensim) (7.0.5)\n",
            "Requirement already satisfied: wrapt in /usr/local/lib/python3.10/dist-packages (from smart-open>=1.8.1->gensim) (1.16.0)\n"
          ]
        }
      ]
    },
    {
      "cell_type": "code",
      "source": [
        "from nltk.corpus import stopwords\n",
        "from nltk.stem.wordnet import WordNetLemmatizer\n",
        "import string"
      ],
      "metadata": {
        "id": "vEIw8y3k7YS4"
      },
      "execution_count": 3,
      "outputs": []
    },
    {
      "cell_type": "code",
      "source": [
        "import nltk\n",
        "nltk.download('stopwords')"
      ],
      "metadata": {
        "colab": {
          "base_uri": "https://localhost:8080/"
        },
        "id": "sK3BCssp7YQf",
        "outputId": "f09cf064-bc31-4f63-955b-dcef1c2fa064"
      },
      "execution_count": 5,
      "outputs": [
        {
          "output_type": "stream",
          "name": "stderr",
          "text": [
            "[nltk_data] Downloading package stopwords to /root/nltk_data...\n",
            "[nltk_data]   Unzipping corpora/stopwords.zip.\n"
          ]
        },
        {
          "output_type": "execute_result",
          "data": {
            "text/plain": [
              "True"
            ]
          },
          "metadata": {},
          "execution_count": 5
        }
      ]
    },
    {
      "cell_type": "markdown",
      "source": [
        "#Text Processing"
      ],
      "metadata": {
        "id": "xhR_CzXj8A7c"
      }
    },
    {
      "cell_type": "code",
      "source": [
        "stop = set(stopwords.words('english'))\n",
        "ex = set(string.punctuation)\n",
        "lem = WordNetLemmatizer()"
      ],
      "metadata": {
        "id": "dop9KCjF7YOH"
      },
      "execution_count": 7,
      "outputs": []
    },
    {
      "cell_type": "code",
      "source": [
        "print(stop)"
      ],
      "metadata": {
        "colab": {
          "base_uri": "https://localhost:8080/"
        },
        "id": "PJ3r9PmK7YLt",
        "outputId": "986bb8bd-3f89-4b12-9d16-34139d440255"
      },
      "execution_count": 8,
      "outputs": [
        {
          "output_type": "stream",
          "name": "stdout",
          "text": [
            "{'whom', 'being', 'up', 'into', 'mustn', 'ourselves', 'y', 'over', 'yourselves', \"couldn't\", 'while', 'had', 'against', 'herself', 'hers', \"you've\", 'ain', \"aren't\", 'few', 'very', 'most', 'too', 'out', 'yourself', 'but', 'a', 'from', 'his', 'shouldn', 'myself', 'where', \"you'll\", 'himself', 'before', 'because', 'have', 'only', 'd', 'doing', 'again', 'what', \"isn't\", 'both', 'are', 'each', \"hadn't\", 'once', 'mightn', 'at', 'the', 'off', 'on', 'then', 'some', 'an', 'own', 'this', 'they', 'ours', 'in', \"won't\", 'for', 'i', 'your', 'more', 'shan', 'those', 'there', 'them', \"shan't\", 'all', 'can', 'me', 'having', 'above', 'these', 'during', 'and', 'to', 'll', \"you're\", 'why', 'won', \"should've\", 'haven', 'our', 'themselves', 'which', 'does', 'such', 'other', \"doesn't\", 'after', \"it's\", 'she', 'isn', 'should', 'm', 'he', 'it', 'nor', 's', 'wouldn', 'between', 'do', 'how', 'than', 'don', 'o', 'when', 'am', 'been', 'hadn', \"hasn't\", \"wasn't\", 'who', 'wasn', 'that', \"you'd\", 'same', 're', \"that'll\", 'ma', 't', 've', 'needn', \"needn't\", 'be', 'aren', 'if', 'about', 'were', 'by', 'him', 'hasn', 'her', 'any', \"mightn't\", 'further', 'theirs', 'was', 'doesn', 'will', 'didn', 'itself', 'just', 'has', 'below', \"she's\", 'or', 'their', 'until', 'did', 'of', 'not', \"don't\", \"didn't\", \"shouldn't\", 'yours', 'we', 'its', 'so', 'as', 'my', 'through', \"wouldn't\", 'no', 'weren', 'under', 'couldn', 'down', \"weren't\", 'here', 'is', 'you', \"haven't\", \"mustn't\", 'with', 'now'}\n"
          ]
        }
      ]
    },
    {
      "cell_type": "code",
      "source": [
        "print(\n",
        "    ex\n",
        ")"
      ],
      "metadata": {
        "colab": {
          "base_uri": "https://localhost:8080/"
        },
        "id": "VzPERTtv8XM4",
        "outputId": "c63574a8-8e97-4ebe-a526-175b43a5d6cf"
      },
      "execution_count": 9,
      "outputs": [
        {
          "output_type": "stream",
          "name": "stdout",
          "text": [
            "{'$', '?', '-', '{', '\"', '.', ']', '}', '`', '&', '*', '=', \"'\", ':', '!', '^', '>', '%', '[', ',', '<', '~', '_', '(', '|', '+', ';', '\\\\', '/', '@', ')', '#'}\n"
          ]
        }
      ]
    },
    {
      "cell_type": "code",
      "source": [
        "nltk.download('wordnet')"
      ],
      "metadata": {
        "colab": {
          "base_uri": "https://localhost:8080/"
        },
        "id": "X4-bVXBa-Ckn",
        "outputId": "ccd26fa0-4232-4671-caa7-46dda96c9424"
      },
      "execution_count": 14,
      "outputs": [
        {
          "output_type": "stream",
          "name": "stderr",
          "text": [
            "[nltk_data] Downloading package wordnet to /root/nltk_data...\n"
          ]
        },
        {
          "output_type": "execute_result",
          "data": {
            "text/plain": [
              "True"
            ]
          },
          "metadata": {},
          "execution_count": 14
        }
      ]
    },
    {
      "cell_type": "code",
      "source": [
        "def clean(doc):\n",
        "  words = doc.lower().split()\n",
        "  clean_w = [lem.lemmatize(word)for word in words if word not in stop and word not in ex]\n",
        "  return ' '.join(clean_w)\n",
        "\n",
        "cle = [clean(sen).split() for sen in doc]"
      ],
      "metadata": {
        "id": "JyMGxiRC8beM"
      },
      "execution_count": 15,
      "outputs": []
    },
    {
      "cell_type": "code",
      "source": [
        "print(cle)"
      ],
      "metadata": {
        "colab": {
          "base_uri": "https://localhost:8080/"
        },
        "id": "Z5fmj8AJ-GAl",
        "outputId": "95e76bf0-9eb0-44a9-a043-2b47c86c846c"
      },
      "execution_count": 17,
      "outputs": [
        {
          "output_type": "stream",
          "name": "stdout",
          "text": [
            "[['learning', 'nlp,', 'interesting', 'exciting.it', 'includes', 'machine', 'learning', 'deep', 'learning'], ['father', 'data', 'scientist', 'nlp', 'expert'], ['sister', 'good', 'exposure', 'android', 'development']]\n"
          ]
        }
      ]
    },
    {
      "cell_type": "code",
      "source": [],
      "metadata": {
        "id": "AV6I8vtn-F-d"
      },
      "execution_count": null,
      "outputs": []
    },
    {
      "cell_type": "markdown",
      "source": [
        "#preparing Document term martic"
      ],
      "metadata": {
        "id": "o5TQG29R_9qR"
      }
    },
    {
      "cell_type": "code",
      "source": [
        "import gensim\n",
        "from gensim import corpora"
      ],
      "metadata": {
        "id": "dZxQP7ni-F8T"
      },
      "execution_count": 24,
      "outputs": []
    },
    {
      "cell_type": "code",
      "source": [
        "dic = corpora.Dictionary(cle)\n",
        "doc_m = [dic.doc2bow(doc) for doc in cle]\n",
        "print(doc_m)"
      ],
      "metadata": {
        "colab": {
          "base_uri": "https://localhost:8080/"
        },
        "id": "tTp3ZPE9-F6I",
        "outputId": "8e3e602e-d1e7-4b6e-cff9-ac088291bc5d"
      },
      "execution_count": 27,
      "outputs": [
        {
          "output_type": "stream",
          "name": "stdout",
          "text": [
            "[[(0, 1), (1, 1), (2, 1), (3, 1), (4, 3), (5, 1), (6, 1)], [(7, 1), (8, 1), (9, 1), (10, 1), (11, 1)], [(12, 1), (13, 1), (14, 1), (15, 1), (16, 1)]]\n"
          ]
        }
      ]
    },
    {
      "cell_type": "code",
      "source": [],
      "metadata": {
        "id": "KRV_j8spBLq6"
      },
      "execution_count": null,
      "outputs": []
    }
  ]
}